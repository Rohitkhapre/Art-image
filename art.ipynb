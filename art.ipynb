{
 "cells": [
  {
   "cell_type": "code",
   "execution_count": 24,
   "metadata": {},
   "outputs": [],
   "source": [
    "import cv2\n",
    "import numpy as np\n",
    "\n",
    "# Create a blank canvas (white image) using NumPy array\n",
    "width, height = 800, 400\n",
    "canvas = np.ones((height, width, 3), dtype=np.uint8) * 255\n",
    "\n",
    "# Center position for the car\n",
    "car_center_x = width // 2\n",
    "car_center_y = height // 2\n",
    "\n",
    "# Draw the body of the car (rectangle) using NumPy array\n",
    "car_width, car_height = 300, 80\n",
    "car_top_left = (car_center_x - car_width // 2, car_center_y + car_height // 2)\n",
    "car_bottom_right = (car_center_x + car_width // 2, car_center_y - car_height // 2)\n",
    "cv2.rectangle(canvas, car_top_left, car_bottom_right, (0, 0, 255), -1)\n",
    "\n",
    "# Draw the roof of the car (polygon) using NumPy array\n",
    "roof_points = np.array([\n",
    "    [car_center_x - car_width // 2, car_center_y + car_height // 2],\n",
    "    [car_center_x + car_width // 2, car_center_y + car_height // 2],\n",
    "    [car_center_x + car_width // 4, car_center_y - car_height // 2 - 40],\n",
    "    [car_center_x - car_width // 4, car_center_y - car_height // 2 - 40]\n",
    "])\n",
    "cv2.fillPoly(canvas, [roof_points], (0, 0, 255))\n",
    "\n",
    "# Draw a white line at the center of the car using NumPy array\n",
    "line_start = (car_center_x, car_center_y + car_height // 4)\n",
    "line_end = (car_center_x, car_center_y - car_height // 4)\n",
    "cv2.line(canvas, line_start, line_end, (255, 255, 255), 3)\n",
    "\n",
    "# Draw the wheels of the car (circles) using NumPy array\n",
    "wheel_radius = 30\n",
    "left_wheel_center = (car_center_x - car_width // 3, car_center_y + car_height // 2)\n",
    "right_wheel_center = (car_center_x + car_width // 3, car_center_y + car_height // 2)\n",
    "cv2.circle(canvas, left_wheel_center, wheel_radius, (0, 0, 0), -1)\n",
    "cv2.circle(canvas, right_wheel_center, wheel_radius, (0, 0, 0), -1)\n",
    "\n",
    "# Display the car art\n",
    "cv2.imshow(\"Car Art\", canvas)\n",
    "cv2.waitKey(0)\n",
    "cv2.destroyAllWindows()\n"
   ]
  }
 ],
 "metadata": {
  "kernelspec": {
   "display_name": "base",
   "language": "python",
   "name": "python3"
  },
  "language_info": {
   "codemirror_mode": {
    "name": "ipython",
    "version": 3
   },
   "file_extension": ".py",
   "mimetype": "text/x-python",
   "name": "python",
   "nbconvert_exporter": "python",
   "pygments_lexer": "ipython3",
   "version": "3.11.3"
  },
  "orig_nbformat": 4
 },
 "nbformat": 4,
 "nbformat_minor": 2
}
